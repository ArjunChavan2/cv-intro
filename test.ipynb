{
 "cells": [
  {
   "cell_type": "code",
   "execution_count": 3,
   "metadata": {},
   "outputs": [],
   "source": [
    "import cv2\n",
    "import numpy as np\n",
    "import matplotlib.pyplot as plt"
   ]
  },
  {
   "cell_type": "code",
   "execution_count": null,
   "metadata": {},
   "outputs": [],
   "source": [
    "#frame = cv2.imread('image.jpg')\n",
    "#plt.imshow(frame)"
   ]
  },
  {
   "cell_type": "code",
   "execution_count": null,
   "metadata": {},
   "outputs": [],
   "source": [
    "def unique(list1):\n",
    "    # initialize a null list\n",
    "    unique_list = []\n",
    "    # traverse for all elements\n",
    "    for x in list1:\n",
    "        # check if exists in unique_list or not\n",
    "        if str(x)[0:3] not in unique_list:\n",
    "            unique_list.append(str(x)[0:3])\n",
    "    # print list\n",
    "    #print(unique_list)\n",
    "    for x in unique_list:\n",
    "        #print(\"New\")\n",
    "        for i in range(0,len(list1)):\n",
    "            #print(list1[i])\n",
    "            if str(x) in str(list1[i]):\n",
    "                unique_list[i] = float(list1[i])\n",
    "                break\n",
    "    return unique_list\n",
    "                "
   ]
  },
  {
   "cell_type": "code",
   "execution_count": null,
   "metadata": {},
   "outputs": [],
   "source": [
    "img = cv2.imread('rov_pool.jpg')\n",
    "\n",
    "gray = cv2.cvtColor(img,cv2.COLOR_BGR2GRAY)\n",
    "edges = cv2.Canny(gray, 108, 109, apertureSize=3) # detect edges\n",
    "lines = cv2.HoughLinesP(\n",
    "                edges,\n",
    "                1,\n",
    "                np.pi/180,\n",
    "                100,\n",
    "                minLineLength=100,\n",
    "                maxLineGap=30,\n",
    "        ) # detect lines\n",
    "slopes = []\n",
    "for line in lines:\n",
    "    x1, y1, x2, y2 = line[0]\n",
    "    cv2.line(img, (x1, y1), (x2, y2), (0, 255, 0), 2)\n",
    "\n",
    "    slope = (y2-y1) / (x2-x1)\n",
    "    slopes.append(slope)\n",
    "print(unique(slopes))\n",
    "plt.imshow(cv2.cvtColor(img, cv2.COLOR_BGR2RGB))\n",
    "print(img[1000][1080])\n",
    "lol = cv2.cvtColor(img, cv2.COLOR_BGR2GRAY)\n",
    "print(lol[1000][1000])\n",
    "len(img[1000])"
   ]
  },
  {
   "cell_type": "code",
   "execution_count": null,
   "metadata": {},
   "outputs": [],
   "source": [
    "'''cap = cv2.VideoCapture('AUV_Vid.mkv')\n",
    "counter = 0\n",
    "ret = True\n",
    "while ret:\n",
    "    if counter % 150 == 0:\n",
    "        ret, frame = cap.read()\n",
    "        gray = cv2.cvtColor(frame,cv2.COLOR_BGR2GRAY)\n",
    "        edges = cv2.Canny(gray, 108, 109, apertureSize=3) # detect edges\n",
    "        plt.imshow(edges)\n",
    "        lines = cv2.HoughLinesP(\n",
    "                        edges,\n",
    "                        1,\n",
    "                        np.pi/180,\n",
    "                        100,\n",
    "                        minLineLength=100,\n",
    "                        maxLineGap=30,\n",
    "                ) # detect lines\n",
    "        try:\n",
    "            for line in lines:\n",
    "                x1, y1, x2, y2 = line[0]\n",
    "                cv2.line(frame, (x1, y1), (x2, y2), (0, 255, 0), 2)\n",
    "        except:\n",
    "            pass\n",
    "        plt.imshow(cv2.cvtColor(frame, cv2.COLOR_BGR2RGB))\n",
    "        plt.show()\n",
    "    counter += 1'''"
   ]
  },
  {
   "cell_type": "code",
   "execution_count": null,
   "metadata": {},
   "outputs": [],
   "source": [
    "#Drawing Line\n",
    "cv2.line(img, (0, 0), (100, 100), (255, 0, 0), 5)\n",
    "#Drawing rectangle\n",
    "cv2.rectangle(img, (0, 0), (100, 100), (0, 255, 0), 5)\n",
    "#Drawing Circle\n",
    "cv2.circle(img, (50, 50), 50, (0, 0, 255), 5)\n",
    "#Drawing Polygon\n",
    "pts = np.array([[10, 5], [20, 30], [70, 20], [50, 10]], np.int32)\n",
    "pts = pts.reshape((-1, 1, 2))\n",
    "cv2.polylines(img, [pts], True, (0, 255, 255), 5)\n",
    "#Adding Text\n",
    "cv2.putText(img, 'Hello World!', (0, 130), cv2.FONT_HERSHEY_SIMPLEX, 1, (255, 255, 255), 2, cv2.LINE_AA)"
   ]
  },
  {
   "cell_type": "code",
   "execution_count": null,
   "metadata": {},
   "outputs": [],
   "source": [
    "gray = cv2.cvtColor(img, cv2.COLOR_BGR2GRAY) # convert to grayscale\n",
    "edges = cv2.Canny(gray, 50, 150, apertureSize=3) # detect edges\n",
    "lines = cv2.HoughLinesP(\n",
    "                edges,\n",
    "                1,\n",
    "                np.pi/180,\n",
    "                100,\n",
    "                minLineLength=100,\n",
    "                maxLineGap=10,\n",
    "        ) # detect lines\n",
    "\n",
    "for line in lines:\n",
    "    x1, y1, x2, y2 = line[0]\n",
    "    cv2.line(img, (x1, y1), (x2, y2), (0, 255, 0), 2)\n",
    "\n",
    "plt.imshow(img)"
   ]
  },
  {
   "cell_type": "code",
   "execution_count": 1,
   "metadata": {},
   "outputs": [],
   "source": [
    "import cv2\n",
    "from dt_apriltags import Detector\n",
    "import numpy"
   ]
  },
  {
   "cell_type": "code",
   "execution_count": 3,
   "metadata": {},
   "outputs": [
    {
     "name": "stdout",
     "output_type": "stream",
     "text": [
      "[(array([[ 0.06780324],\n",
      "       [-0.11046711],\n",
      "       [ 0.53497296]]), array([[-0.04622894, -0.99748013,  0.0538171 ],\n",
      "       [ 0.99535829, -0.04144437,  0.08685755],\n",
      "       [-0.08440826,  0.05758263,  0.99476605]])), (array([[ 0.08865171],\n",
      "       [-0.09929118],\n",
      "       [ 0.52188091]]), array([[-0.01871812, -0.99972043,  0.0144464 ],\n",
      "       [ 0.99641485, -0.01746002,  0.0827804 ],\n",
      "       [-0.08250503,  0.0159441 ,  0.9964631 ]])), (array([[ 0.22210339],\n",
      "       [-0.06986835],\n",
      "       [ 0.48217692]]), array([[ 0.23043951, -0.79939043,  0.55486266],\n",
      "       [ 0.9719735 ,  0.16182319, -0.17053084],\n",
      "       [ 0.04653108,  0.57860884,  0.81427677]])), (array([[ 0.21924265],\n",
      "       [-0.06942671],\n",
      "       [ 0.46900003]]), array([[ 0.16306984, -0.61534516,  0.77120591],\n",
      "       [ 0.97853633,  0.20069588, -0.04677418],\n",
      "       [-0.12599558,  0.76228046,  0.63486504]])), (array([[ 0.21899094],\n",
      "       [-0.06895287],\n",
      "       [ 0.44899587]]), array([[ 0.1551998 , -0.40585423,  0.90066385],\n",
      "       [ 0.96933775,  0.23839251, -0.05960982],\n",
      "       [-0.19051862,  0.8822989 ,  0.4304083 ]])), (array([[ 0.21874424],\n",
      "       [-0.06704518],\n",
      "       [ 0.43838931]]), array([[ 0.17135688, -0.33616125,  0.92608446],\n",
      "       [ 0.96566713,  0.24359968, -0.09025628],\n",
      "       [-0.19525321,  0.90975536,  0.36636235]])), (array([[ 0.20544219],\n",
      "       [-0.06476199],\n",
      "       [ 0.47973906]]), array([[ 0.22123474, -0.73347427,  0.64270575],\n",
      "       [ 0.96906861,  0.09143497, -0.22922845],\n",
      "       [ 0.10936739,  0.67353926,  0.73101548]]))]\n"
     ]
    }
   ],
   "source": [
    "video = cv2.VideoCapture('AprilTagTest.mkv')\n",
    "\n",
    "'''fps = int(video.get(cv2.CAP_PROP_FPS))\n",
    "width = int(video.get(cv2.CAP_PROP_FRAME_WIDTH))\n",
    "height = int(video.get(cv2.CAP_PROP_FRAME_HEIGHT))\n",
    "\n",
    "output_file = 'april_video.avi'\n",
    "fourcc = cv2.VideoWriter_fourcc(*'XVID')\n",
    "output_video = cv2.VideoWriter(output_file, fourcc, 30, (width, height))'''\n",
    "\n",
    "ret, frame = video.read()\n",
    "i = 0\n",
    "cameraMatrix = numpy.array([ 1060.71, 0, 960, 0, 1060.71, 540, 0, 0, 1]).reshape((3,3))\n",
    "camera_params = ( cameraMatrix[0,0], cameraMatrix[1,1], cameraMatrix[0,2], cameraMatrix[1,2] )\n",
    "at_detector = Detector(families='tag36h11',\n",
    "                    nthreads=1,\n",
    "                    quad_decimate=1.0,\n",
    "                    quad_sigma=0.0,\n",
    "                    refine_edges=1,\n",
    "                    decode_sharpening=0.25,\n",
    "                    debug=0)\n",
    "l = []\n",
    "\n",
    "while ret:\n",
    "    i += 1\n",
    "    if(i%10 == 0 and i < 90):\n",
    "        img = cv2.cvtColor(frame, cv2.COLOR_BGR2GRAY)\n",
    "        color_img = cv2.cvtColor(img, cv2.COLOR_GRAY2RGB)\n",
    "        tags = at_detector.detect(img, True, camera_params, tag_size = 0.1)\n",
    "        for tag in tags:\n",
    "            for idx in range(len(tag.corners)):\n",
    "                cv2.line(color_img, tuple(tag.corners[idx - 1, :].astype(int)), tuple(tag.corners[idx, :].astype(int)), (0, 255, 0))\n",
    "                cv2.circle(color_img, (int(tag.center[0].item()),int(tag.center[1].item())), 50, (0, 0, 255), 2)\n",
    "            l.append((tag.pose_t, tag.pose_R))\n",
    "        #output_video.write(processed_frame)\n",
    "    ret, frame = video.read()\n",
    "print(l)\n",
    "#video.release()\n",
    "#output_video.release()"
   ]
  }
 ],
 "metadata": {
  "kernelspec": {
   "display_name": "Python 3",
   "language": "python",
   "name": "python3"
  },
  "language_info": {
   "codemirror_mode": {
    "name": "ipython",
    "version": 3
   },
   "file_extension": ".py",
   "mimetype": "text/x-python",
   "name": "python",
   "nbconvert_exporter": "python",
   "pygments_lexer": "ipython3",
   "version": "3.9.2"
  },
  "orig_nbformat": 4
 },
 "nbformat": 4,
 "nbformat_minor": 2
}
